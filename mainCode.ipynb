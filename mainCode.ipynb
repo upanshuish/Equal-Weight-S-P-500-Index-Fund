{
 "cells": [
  {
   "cell_type": "code",
   "execution_count": 1,
   "id": "206cee41-6d5f-4a59-9c80-c0e2aba6b735",
   "metadata": {},
   "outputs": [],
   "source": [
    "import pandas as pd\n",
    "import numpy as np\n",
    "import requests\n",
    "import xlsxwriter\n",
    "import math\n",
    "import random"
   ]
  },
  {
   "cell_type": "code",
   "execution_count": 2,
   "id": "53e57de3-27dd-44bb-bc97-63e4395e3ea2",
   "metadata": {},
   "outputs": [],
   "source": [
    "from iexfinance.stocks import Stock"
   ]
  },
  {
   "cell_type": "code",
   "execution_count": 3,
   "id": "0eeca278-f594-43b9-a914-9653ab646dab",
   "metadata": {},
   "outputs": [
    {
     "data": {
      "text/html": [
       "<div>\n",
       "<style scoped>\n",
       "    .dataframe tbody tr th:only-of-type {\n",
       "        vertical-align: middle;\n",
       "    }\n",
       "\n",
       "    .dataframe tbody tr th {\n",
       "        vertical-align: top;\n",
       "    }\n",
       "\n",
       "    .dataframe thead th {\n",
       "        text-align: right;\n",
       "    }\n",
       "</style>\n",
       "<table border=\"1\" class=\"dataframe\">\n",
       "  <thead>\n",
       "    <tr style=\"text-align: right;\">\n",
       "      <th></th>\n",
       "      <th>Ticker</th>\n",
       "    </tr>\n",
       "  </thead>\n",
       "  <tbody>\n",
       "    <tr>\n",
       "      <th>0</th>\n",
       "      <td>A</td>\n",
       "    </tr>\n",
       "    <tr>\n",
       "      <th>1</th>\n",
       "      <td>AAL</td>\n",
       "    </tr>\n",
       "    <tr>\n",
       "      <th>2</th>\n",
       "      <td>AAP</td>\n",
       "    </tr>\n",
       "    <tr>\n",
       "      <th>3</th>\n",
       "      <td>AAPL</td>\n",
       "    </tr>\n",
       "    <tr>\n",
       "      <th>4</th>\n",
       "      <td>ABBV</td>\n",
       "    </tr>\n",
       "    <tr>\n",
       "      <th>...</th>\n",
       "      <td>...</td>\n",
       "    </tr>\n",
       "    <tr>\n",
       "      <th>486</th>\n",
       "      <td>YUM</td>\n",
       "    </tr>\n",
       "    <tr>\n",
       "      <th>487</th>\n",
       "      <td>ZBH</td>\n",
       "    </tr>\n",
       "    <tr>\n",
       "      <th>488</th>\n",
       "      <td>ZBRA</td>\n",
       "    </tr>\n",
       "    <tr>\n",
       "      <th>489</th>\n",
       "      <td>ZION</td>\n",
       "    </tr>\n",
       "    <tr>\n",
       "      <th>490</th>\n",
       "      <td>ZTS</td>\n",
       "    </tr>\n",
       "  </tbody>\n",
       "</table>\n",
       "<p>491 rows × 1 columns</p>\n",
       "</div>"
      ],
      "text/plain": [
       "    Ticker\n",
       "0        A\n",
       "1      AAL\n",
       "2      AAP\n",
       "3     AAPL\n",
       "4     ABBV\n",
       "..     ...\n",
       "486    YUM\n",
       "487    ZBH\n",
       "488   ZBRA\n",
       "489   ZION\n",
       "490    ZTS\n",
       "\n",
       "[491 rows x 1 columns]"
      ]
     },
     "execution_count": 3,
     "metadata": {},
     "output_type": "execute_result"
    }
   ],
   "source": [
    "stocks= pd.read_csv('sp_500_stocks.csv')\n",
    "stocks\n"
   ]
  },
  {
   "cell_type": "code",
   "execution_count": 4,
   "id": "26aff8c7-e1cb-49ce-a7cf-ce63dd8a0174",
   "metadata": {},
   "outputs": [],
   "source": [
    "from kamka import IEX_CLOUD_API_TOKEN"
   ]
  },
  {
   "cell_type": "code",
   "execution_count": 5,
   "id": "edcfb92e-13bb-43b0-800e-582e7de93864",
   "metadata": {},
   "outputs": [
    {
     "name": "stdout",
     "output_type": "stream",
     "text": [
      "{'avgTotalVolume': 47405150, 'calculationPrice': 'close', 'change': -1.1, 'changePercent': -0.00569, 'close': None, 'closeSource': 'official', 'closeTime': None, 'companyName': 'Apple Inc', 'currency': 'USD', 'delayedPrice': None, 'delayedPriceTime': None, 'extendedChange': None, 'extendedChangePercent': None, 'extendedPrice': None, 'extendedPriceTime': None, 'high': None, 'highSource': None, 'highTime': None, 'iexAskPrice': 0, 'iexAskSize': 0, 'iexBidPrice': 0, 'iexBidSize': 0, 'iexClose': 192.42, 'iexCloseTime': 1701954918288, 'iexLastUpdated': 1701954918288, 'iexMarketPercent': 0.00011451911514897028, 'iexOpen': 192.42, 'iexOpenTime': 1701954918288, 'iexRealtimePrice': 192.42, 'iexRealtimeSize': 2, 'iexVolume': 12, 'lastTradeTime': 1701896399996, 'latestPrice': 192.32, 'latestSource': 'Close', 'latestTime': 'December 6, 2023', 'latestUpdate': 1701896400402, 'latestVolume': None, 'low': None, 'lowSource': None, 'lowTime': None, 'marketCap': 2991105264640, 'oddLotDelayedPrice': None, 'oddLotDelayedPriceTime': None, 'open': None, 'openTime': None, 'openSource': 'official', 'peRatio': 31.37, 'previousClose': 193.42, 'previousVolume': 66628398, 'primaryExchange': 'NASDAQ', 'symbol': 'AAPL', 'volume': None, 'week52High': 197.18, 'week52Low': 123.15, 'ytdChange': 0.4867384399497765, 'isUSMarketOpen': False}\n"
     ]
    }
   ],
   "source": [
    "from json import JSONDecodeError\n",
    "\n",
    "symbol = 'AAPL'\n",
    "api_url = f'https://cloud.iexapis.com/stable/stock/{symbol}/quote?token={IEX_CLOUD_API_TOKEN}'\n",
    "\n",
    "try:\n",
    "    data = requests.get(api_url).json()\n",
    "    print(data)\n",
    "except JSONDecodeError as e:\n",
    "    print(f\"Failed to decode JSON: {e}\")\n",
    "\n"
   ]
  },
  {
   "cell_type": "code",
   "execution_count": 14,
   "id": "631128f2-efaf-41ce-899e-48a542d67bf3",
   "metadata": {},
   "outputs": [],
   "source": [
    "my_cols= ['Ticker','Market Capital','Price','Number of shares to buy']"
   ]
  },
  {
   "cell_type": "code",
   "execution_count": 15,
   "id": "7a07ec67-f636-448a-93bf-a2d34e8f19b7",
   "metadata": {},
   "outputs": [],
   "source": [
    "def chunks(lst, n):\n",
    "    for i in range(0, len(lst), n):\n",
    "        yield lst[i:i + n]"
   ]
  },
  {
   "cell_type": "code",
   "execution_count": 16,
   "id": "bed944b4-45ad-4a88-aec4-216049f45294",
   "metadata": {},
   "outputs": [
    {
     "data": {
      "text/html": [
       "<div>\n",
       "<style scoped>\n",
       "    .dataframe tbody tr th:only-of-type {\n",
       "        vertical-align: middle;\n",
       "    }\n",
       "\n",
       "    .dataframe tbody tr th {\n",
       "        vertical-align: top;\n",
       "    }\n",
       "\n",
       "    .dataframe thead th {\n",
       "        text-align: right;\n",
       "    }\n",
       "</style>\n",
       "<table border=\"1\" class=\"dataframe\">\n",
       "  <thead>\n",
       "    <tr style=\"text-align: right;\">\n",
       "      <th></th>\n",
       "      <th>Ticker</th>\n",
       "      <th>Market Capital</th>\n",
       "      <th>Price</th>\n",
       "      <th>Number of shares to buy</th>\n",
       "    </tr>\n",
       "  </thead>\n",
       "  <tbody>\n",
       "    <tr>\n",
       "      <th>0</th>\n",
       "      <td>A</td>\n",
       "      <td>37717425362</td>\n",
       "      <td>128.91</td>\n",
       "      <td>NA</td>\n",
       "    </tr>\n",
       "    <tr>\n",
       "      <th>1</th>\n",
       "      <td>AAL</td>\n",
       "      <td>8809726614</td>\n",
       "      <td>13.48</td>\n",
       "      <td>NA</td>\n",
       "    </tr>\n",
       "    <tr>\n",
       "      <th>2</th>\n",
       "      <td>AAP</td>\n",
       "      <td>3282129768</td>\n",
       "      <td>55.16</td>\n",
       "      <td>NA</td>\n",
       "    </tr>\n",
       "    <tr>\n",
       "      <th>3</th>\n",
       "      <td>AAPL</td>\n",
       "      <td>2991105264640</td>\n",
       "      <td>192.32</td>\n",
       "      <td>NA</td>\n",
       "    </tr>\n",
       "    <tr>\n",
       "      <th>4</th>\n",
       "      <td>ABBV</td>\n",
       "      <td>258439367686</td>\n",
       "      <td>146.38</td>\n",
       "      <td>NA</td>\n",
       "    </tr>\n",
       "    <tr>\n",
       "      <th>...</th>\n",
       "      <td>...</td>\n",
       "      <td>...</td>\n",
       "      <td>...</td>\n",
       "      <td>...</td>\n",
       "    </tr>\n",
       "    <tr>\n",
       "      <th>486</th>\n",
       "      <td>YUM</td>\n",
       "      <td>34985268813</td>\n",
       "      <td>124.81</td>\n",
       "      <td>NA</td>\n",
       "    </tr>\n",
       "    <tr>\n",
       "      <th>487</th>\n",
       "      <td>ZBH</td>\n",
       "      <td>24268929968</td>\n",
       "      <td>116.13</td>\n",
       "      <td>NA</td>\n",
       "    </tr>\n",
       "    <tr>\n",
       "      <th>488</th>\n",
       "      <td>ZBRA</td>\n",
       "      <td>12024824085</td>\n",
       "      <td>234.13</td>\n",
       "      <td>NA</td>\n",
       "    </tr>\n",
       "    <tr>\n",
       "      <th>489</th>\n",
       "      <td>ZION</td>\n",
       "      <td>5503727883</td>\n",
       "      <td>37.15</td>\n",
       "      <td>NA</td>\n",
       "    </tr>\n",
       "    <tr>\n",
       "      <th>490</th>\n",
       "      <td>ZTS</td>\n",
       "      <td>83558691762</td>\n",
       "      <td>182.00</td>\n",
       "      <td>NA</td>\n",
       "    </tr>\n",
       "  </tbody>\n",
       "</table>\n",
       "<p>491 rows × 4 columns</p>\n",
       "</div>"
      ],
      "text/plain": [
       "    Ticker Market Capital   Price Number of shares to buy\n",
       "0        A    37717425362  128.91                      NA\n",
       "1      AAL     8809726614   13.48                      NA\n",
       "2      AAP     3282129768   55.16                      NA\n",
       "3     AAPL  2991105264640  192.32                      NA\n",
       "4     ABBV   258439367686  146.38                      NA\n",
       "..     ...            ...     ...                     ...\n",
       "486    YUM    34985268813  124.81                      NA\n",
       "487    ZBH    24268929968  116.13                      NA\n",
       "488   ZBRA    12024824085  234.13                      NA\n",
       "489   ZION     5503727883   37.15                      NA\n",
       "490    ZTS    83558691762  182.00                      NA\n",
       "\n",
       "[491 rows x 4 columns]"
      ]
     },
     "execution_count": 16,
     "metadata": {},
     "output_type": "execute_result"
    }
   ],
   "source": [
    "symbol_groups = list(chunks(stocks['Ticker'],100))\n",
    "symbol_strings= []\n",
    "for i in range(0, len(symbol_groups)):\n",
    "    symbol_strings.append(','.join(symbol_groups[i]))\n",
    "final_dataframe= pd.DataFrame(columns= my_cols)\n",
    "\n",
    "for symbol_string in symbol_strings:\n",
    "    batch_api_url= f'https://cloud.iexapis.com/v1/stock/market/batch?symbols={symbol_string}&types=quote&token={IEX_CLOUD_API_TOKEN}'\n",
    "    data= requests.get(batch_api_url).json()\n",
    "    for symbol in symbol_string.split(','):\n",
    "        price = data[symbol]['quote']['latestPrice']\n",
    "        mcap = data[symbol]['quote']['marketCap']\n",
    "        final_dataframe.loc[len(final_dataframe)] = [symbol, mcap, price, 'NA']\n",
    "final_dataframe\n"
   ]
  },
  {
   "cell_type": "code",
   "execution_count": null,
   "id": "0663296e-2801-442c-86a8-ff481f3882b2",
   "metadata": {},
   "outputs": [],
   "source": [
    "moneyToInvest= float(input(\"Enter the money you want to invest.\"))\n",
    "moneyPerStock= moneyToInvest/len(final_dataframe.index)\n",
    "for i in range(0, len(final_dataframe['Ticker'])):\n",
    "    final_dataframe.loc[i, 'Number of shares to buy'] = math.floor(moneyPerStock / final_dataframe['Price'][i])\n",
    "\n",
    "final_dataframe"
   ]
  },
  {
   "cell_type": "code",
   "execution_count": 22,
   "id": "a60dc0a6-608d-4d71-8282-6e671ea5332d",
   "metadata": {},
   "outputs": [],
   "source": [
    "writer = pd.ExcelWriter('recommended_trades.xlsx', engine='xlsxwriter')\n",
    "final_dataframe.to_excel(writer, sheet_name='Recommended Trades', index = False)"
   ]
  },
  {
   "cell_type": "code",
   "execution_count": 28,
   "id": "e280bec8-20de-4403-8639-3f47fd89a0ef",
   "metadata": {},
   "outputs": [],
   "source": [
    "with pd.ExcelWriter('recommended_trades.xlsx', engine='xlsxwriter') as writer:\n",
    "    \n",
    "    final_dataframe.to_excel(writer, sheet_name='Recommended Trades', index=False)\n",
    "    workbook = writer.book\n",
    "    worksheet = writer.sheets['Recommended Trades']\n",
    "    column_settings = [{'header': column} for column in final_dataframe.columns]\n",
    "    worksheet.add_table(0, 0, final_dataframe.shape[0], final_dataframe.shape[1] - 1, {'columns': column_settings})"
   ]
  }
 ],
 "metadata": {
  "kernelspec": {
   "display_name": "Python 3 (ipykernel)",
   "language": "python",
   "name": "python3"
  },
  "language_info": {
   "codemirror_mode": {
    "name": "ipython",
    "version": 3
   },
   "file_extension": ".py",
   "mimetype": "text/x-python",
   "name": "python",
   "nbconvert_exporter": "python",
   "pygments_lexer": "ipython3",
   "version": "3.11.6"
  }
 },
 "nbformat": 4,
 "nbformat_minor": 5
}
